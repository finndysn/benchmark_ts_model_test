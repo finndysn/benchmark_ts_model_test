{
 "cells": [
  {
   "cell_type": "code",
   "execution_count": 1,
   "metadata": {},
   "outputs": [],
   "source": [
    "import pandas as pd\n",
    "import numpy as np\n",
    "from statsmodels.tsa.arima.model import ARIMA\n",
    "from sklearn.metrics import mean_absolute_error\n",
    "import itertools"
   ]
  },
  {
   "cell_type": "code",
   "execution_count": 2,
   "metadata": {},
   "outputs": [],
   "source": [
    "\n",
    "def grid_search_arima(data, p_values, d_values, q_values):\n",
    "    best_score, best_cfg = float(\"inf\"), None\n",
    "    train_size = int(len(data) * 0.8)\n",
    "    train, test = data[:train_size], data[train_size:]\n",
    "    \n",
    "    for p, d, q in itertools.product(p_values, d_values, q_values):\n",
    "        try:\n",
    "            model = ARIMA(train, order=(p, d, q))\n",
    "            model_fit = model.fit()\n",
    "            predictions = model_fit.forecast(steps=len(test))\n",
    "            mae = mean_absolute_error(test, predictions)\n",
    "            if mae < best_score:\n",
    "                best_score, best_cfg = mae, (p, d, q)\n",
    "        except:\n",
    "            continue\n",
    "    return best_cfg, best_score\n",
    "\n",
    "def evaluate_arima(data, best_cfg):\n",
    "    train_size = int(len(data) * 0.8)\n",
    "    train, test = data[:train_size], data[train_size:]\n",
    "    model = ARIMA(train, order=best_cfg)\n",
    "    model_fit = model.fit()\n",
    "    predictions = model_fit.forecast(steps=len(test))\n",
    "    mae = mean_absolute_error(test, predictions)\n",
    "    return mae"
   ]
  },
  {
   "cell_type": "code",
   "execution_count": null,
   "metadata": {},
   "outputs": [],
   "source": [
    "data = pd.read_csv('/workspaces/benchmark_ts_model_test/datasets/candy_production.csv', index_col = 0, parse_dates = True)\n",
    "\n",
    "print(data.head())"
   ]
  },
  {
   "cell_type": "code",
   "execution_count": 18,
   "metadata": {},
   "outputs": [],
   "source": [
    "# arima_params = {'p_values': [0, 1, 2], 'd_values': [0, 1], 'q_values': [0, 1, 2]}\n",
    "arima_params = {'p_values': list(range(0, 12)), 'd_values': list(range(0, 4)), 'q_values': list(range(0, 12))}\n"
   ]
  },
  {
   "cell_type": "code",
   "execution_count": null,
   "metadata": {},
   "outputs": [],
   "source": [
    "# ARIMA\n",
    "best_cfg, _ = grid_search_arima(data, **arima_params)\n",
    "arima_mae = evaluate_arima(data, best_cfg)\n"
   ]
  },
  {
   "cell_type": "code",
   "execution_count": null,
   "metadata": {},
   "outputs": [],
   "source": [
    "print(arima_mae)\n",
    "print(best_cfg)\n"
   ]
  },
  {
   "cell_type": "code",
   "execution_count": 11,
   "metadata": {},
   "outputs": [],
   "source": [
    "res = itertools.product([0, 1, 2], [0, 1, 2], [0, 1, 2])"
   ]
  },
  {
   "cell_type": "code",
   "execution_count": null,
   "metadata": {},
   "outputs": [],
   "source": [
    "for comb in res: \n",
    "    print(comb)"
   ]
  },
  {
   "cell_type": "code",
   "execution_count": null,
   "metadata": {},
   "outputs": [],
   "source": [
    "range_res = list(range(0, 12))\n",
    "print(range_res)"
   ]
  }
 ],
 "metadata": {
  "kernelspec": {
   "display_name": "Python 3",
   "language": "python",
   "name": "python3"
  },
  "language_info": {
   "codemirror_mode": {
    "name": "ipython",
    "version": 3
   },
   "file_extension": ".py",
   "mimetype": "text/x-python",
   "name": "python",
   "nbconvert_exporter": "python",
   "pygments_lexer": "ipython3",
   "version": "3.12.1"
  }
 },
 "nbformat": 4,
 "nbformat_minor": 2
}
